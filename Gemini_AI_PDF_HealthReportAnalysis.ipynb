{
  "nbformat": 4,
  "nbformat_minor": 0,
  "metadata": {
    "colab": {
      "provenance": []
    },
    "kernelspec": {
      "name": "python3",
      "display_name": "Python 3"
    },
    "language_info": {
      "name": "python"
    }
  },
  "cells": [
    {
      "cell_type": "code",
      "execution_count": 1,
      "metadata": {
        "id": "ciKtghB-NwTH"
      },
      "outputs": [],
      "source": [
        "import google.generativeai as genai\n",
        "from google.colab import userdata\n",
        "\n",
        "GOOGLE_API_KEY=userdata.get('GOOGLE_API_KEY')\n",
        "genai.configure(api_key=GOOGLE_API_KEY)"
      ]
    },
    {
      "cell_type": "code",
      "source": [
        "pip install PyPDF2"
      ],
      "metadata": {
        "colab": {
          "base_uri": "https://localhost:8080/"
        },
        "id": "jeyReNnkORo-",
        "outputId": "411fb238-3be3-4673-d0a9-3bfe1ba4cca1"
      },
      "execution_count": 2,
      "outputs": [
        {
          "output_type": "stream",
          "name": "stdout",
          "text": [
            "Collecting PyPDF2\n",
            "  Downloading pypdf2-3.0.1-py3-none-any.whl.metadata (6.8 kB)\n",
            "Downloading pypdf2-3.0.1-py3-none-any.whl (232 kB)\n",
            "\u001b[?25l   \u001b[90m━━━━━━━━━━━━━━━━━━━━━━━━━━━━━━━━━━━━━━━━\u001b[0m \u001b[32m0.0/232.6 kB\u001b[0m \u001b[31m?\u001b[0m eta \u001b[36m-:--:--\u001b[0m\r\u001b[2K   \u001b[91m━━━━━━━━━━━━━━━━━━━━━━━━━━━━━━━\u001b[0m\u001b[91m╸\u001b[0m\u001b[90m━━━━━━━━\u001b[0m \u001b[32m184.3/232.6 kB\u001b[0m \u001b[31m6.2 MB/s\u001b[0m eta \u001b[36m0:00:01\u001b[0m\r\u001b[2K   \u001b[90m━━━━━━━━━━━━━━━━━━━━━━━━━━━━━━━━━━━━━━━━\u001b[0m \u001b[32m232.6/232.6 kB\u001b[0m \u001b[31m4.9 MB/s\u001b[0m eta \u001b[36m0:00:00\u001b[0m\n",
            "\u001b[?25hInstalling collected packages: PyPDF2\n",
            "Successfully installed PyPDF2-3.0.1\n"
          ]
        }
      ]
    },
    {
      "cell_type": "code",
      "source": [
        "import PyPDF2\n",
        "\n",
        "def extract_text_from_pdf(pdf_path):\n",
        "  \"\"\"Extracts text from a given health report PDF using PyPDF2.\"\"\"\n",
        "  text = \"\"\n",
        "  with open(pdf_path, \"rb\") as file:\n",
        "    reader = PyPDF2.PdfReader(file)\n",
        "    for page in reader.pages:\n",
        "      text += page.extract_text()\n",
        "  return text"
      ],
      "metadata": {
        "id": "cnu6ETvaOarV"
      },
      "execution_count": 3,
      "outputs": []
    },
    {
      "cell_type": "code",
      "source": [
        "def extract_health_insights(text):\n",
        "  \"\"\"Asks Gemini AI to extract key medical insights from the report.\"\"\"\n",
        "  model=genai.GenerativeModel(\"gemini-1.5-flash\")\n",
        "  prompt=f\"Extract key insights from the following health report:\\n\\n{text}\"\n",
        "  response=model.generate_content(prompt)\n",
        "  return response.text\n",
        "\n",
        "pdf_file=\"health_report.pdf\"\n",
        "extracted_text=extract_text_from_pdf(pdf_file)\n",
        "insights=extract_health_insights(extracted_text)\n",
        "print(\"Key Insights:\\n\",insights)"
      ],
      "metadata": {
        "colab": {
          "base_uri": "https://localhost:8080/",
          "height": 471
        },
        "id": "udHI9zRfPF0g",
        "outputId": "662ec8e0-e6bd-4d36-83b1-a9874ee1bd25"
      },
      "execution_count": 5,
      "outputs": [
        {
          "output_type": "stream",
          "name": "stdout",
          "text": [
            "Key Insights:\n",
            " Mr. Kishan Goud's (MR2100003157) health report reveals the following key insights:\n",
            "\n",
            "**Infectious Disease Screen:**\n",
            "\n",
            "* **Widal Test:** Elevated titers for *Salmonella Typhi* \"O\" (1:160) and \"H\" (1:80) suggest a possible past or current typhoid infection.  The reference range is 1:20, indicating values significantly above the normal range.  *Salmonella Paratyphi* \"A\" and \"B\" titers are within the normal range.\n",
            "* **Dengue Serology:** Negative results for Dengue NS1 antigen, IgG, and IgM antibodies rule out a current or recent dengue infection.\n",
            "* **Malaria:** Rapid malaria test is negative for both *Plasmodium vivax* and *Plasmodium falciparum*, ruling out malaria.\n",
            "\n",
            "**Hematology:**\n",
            "\n",
            "* **Complete Blood Picture (CBC):**  Most blood parameters are within the normal range, including Hemoglobin, RBC count, WBC count, Platelet count, and PCV. Differential counts are also largely within normal limits.  The slight elevation in ESR (26 mm/hr in the first hour, 52 mm/hr in the second) might suggest inflammation but is not conclusive on its own and requires further investigation in conjunction with other findings.\n",
            "\n",
            "**Blood Chemistry:**\n",
            "\n",
            "* **Liver Function Test (LFT):**  All liver function tests (bilirubin, alkaline phosphatase, SGOT, SGPT, total protein, albumin, globulin, and A/G ratio) are within the normal range, indicating normal liver function.\n",
            "* **Kidney Function Test:** Serum creatinine is within the normal range (0.8 mg/dl), suggesting normal kidney function.\n",
            "* **Blood Glucose:** Random blood glucose is not provided.  HbA1c (5.4%) falls within the normal non-diabetic range.\n",
            "* **Electrolytes:** Serum sodium (122 mmol/l) is slightly below the lower limit of the reference range (135-146 mmol/l). Potassium and chloride are within the normal range.  The slightly low sodium requires further investigation to ascertain if this represents true hyponatremia or is a result of a transient or analytical error.\n",
            "\n",
            "\n",
            "**Overall:**\n",
            "\n",
            "The report indicates possible past or present typhoid fever, based on the Widal test results.  All other tests for infectious diseases (dengue and malaria) are negative.  Blood work (CBC and blood chemistry) shows mostly normal results, with the exception of slightly elevated ESR and slightly low serum sodium, which warrant further evaluation to determine the underlying cause.  The HbA1c level is normal. The patient's physician (Dr. Krishna Prasad) should interpret these results in the context of the patient's clinical presentation and medical history to reach a diagnosis and formulate a treatment plan.\n",
            "\n"
          ]
        }
      ]
    },
    {
      "cell_type": "code",
      "source": [
        "def summarize_health_report(text):\n",
        "  \"\"\"Summarizes the health report using Gemini AI.\"\"\"\n",
        "  model=genai.GenerativeModel(\"gemini-1.5-flash\")\n",
        "  prompt=f\"Summarize the following health report in a concise manner:\\n\\n{text}\"\n",
        "  response=model.generate_content(prompt)\n",
        "  return response.text\n",
        "\n",
        "summary=summarize_health_report(extracted_text)\n",
        "print(\"Summary:\\n\",summary)"
      ],
      "metadata": {
        "colab": {
          "base_uri": "https://localhost:8080/",
          "height": 332
        },
        "id": "HBLfXWPFQ2Cw",
        "outputId": "d4c9ae3f-e263-4b68-acbc-e621be7622ae"
      },
      "execution_count": 6,
      "outputs": [
        {
          "output_type": "stream",
          "name": "stdout",
          "text": [
            "Summary:\n",
            " Mr. Kishan Goud's (MR2100003157) blood tests on 01/02/2021 showed:\n",
            "\n",
            "* **Widal Test:** Elevated titers for *S. Typhi* \"O\" (1:160) and \"H\" (1:80), suggesting possible past or present typhoid infection.  Paratyphoid titers were within normal range.\n",
            "* **Dengue Serology:** Negative for NS1 antigen, IgG, and IgM antibodies.\n",
            "* **ESR:** Elevated (26 mm/hr in 1st hour, 52 mm/hr in 2nd hour), indicating inflammation.\n",
            "* **Malaria Test:** Negative for both *Plasmodium vivax* and *Plasmodium falciparum*.\n",
            "* **Complete Blood Picture:** Hemoglobin, RBC, WBC, and platelet counts were within normal limits, with normal differential counts.  Peripheral smear showed normal RBC morphology and WBC count.\n",
            "* **HbA1c:** 5.4% (within normal non-diabetic range).\n",
            "* **Serum Creatinine:** 0.8 mg/dl (within normal range).\n",
            "* **Random Blood Glucose:**  Not provided in the report.\n",
            "* **Liver Function Tests:** All values within normal ranges.\n",
            "* **Serum Electrolytes:** Sodium (122 mmol/l) slightly below normal range; potassium and chloride within normal ranges.\n",
            "\n",
            "\n",
            "Overall, the results suggest a possible past or present typhoid infection and inflammation, but no evidence of dengue or malaria.  Further investigation may be needed based on clinical presentation.\n",
            "\n"
          ]
        }
      ]
    },
    {
      "cell_type": "code",
      "source": [
        "def detect_abnormalities(text):\n",
        "  \"\"\"Analyzes the lab test results and flags abnormal values.\"\"\"\n",
        "  model=genai.GenerativeModel(\"gemini-1.5-flash\")\n",
        "  prompt=f\"Analyze the lab test results in the following health report and highlight any abnormal values:\\n\\n{text}\"\n",
        "  response=model.generate_content(prompt)\n",
        "  return response.text\n",
        "\n",
        "abnormalities=detect_abnormalities(extracted_text)\n",
        "print(\"Potential Abnormalities:\\n\",abnormalities)\n"
      ],
      "metadata": {
        "colab": {
          "base_uri": "https://localhost:8080/",
          "height": 349
        },
        "id": "MsrHFXC1TkN7",
        "outputId": "58deb7bf-2904-453a-8c73-c22ec30278f0"
      },
      "execution_count": 8,
      "outputs": [
        {
          "output_type": "stream",
          "name": "stdout",
          "text": [
            "Potential Abnormalities:\n",
            " Based on the provided lab results, the following values are outside the reference ranges, indicating potential abnormalities:\n",
            "\n",
            "* **Widal Test:**  S. Typhi \"O\" (1:160) and S. Typhi \"H\" (1:80) are both significantly higher than the reference range (1:20).  This suggests a possible past or present infection with *Salmonella Typhi*, but the titre alone isn't diagnostic. Further clinical correlation is needed.\n",
            "\n",
            "* **ESR (Erythrocyte Sedimentation Rate):** Both the 1st hour (26 mm/hr) and 2nd hour (52 mm/hr) values are elevated above the normal range (0-8 mm/hr for the first hour).  Elevated ESR indicates inflammation somewhere in the body, but doesn't pinpoint the cause.  It could be related to infection, autoimmune disease, or other inflammatory conditions.\n",
            "\n",
            "* **Serum Sodium:**  The serum sodium level (122 mmol/l) is below the normal range (135-146 mmol/l), indicating hyponatremia (low sodium).  This is a significant finding and requires further investigation to determine the cause.  Hyponatremia can have serious consequences.\n",
            "\n",
            "* **Serum Chloride:** The serum chloride level (97 mmol/l) is slightly below the lower limit of the normal range (98-107 mmol/l). While only slightly low, it might be clinically relevant in conjunction with the hyponatremia.\n",
            "\n",
            "\n",
            "**Values within the reference range but warranting attention in context:**\n",
            "\n",
            "* While all other blood counts (RBC, WBC, Platelets, PCV, Differential counts) are within normal ranges, they should be interpreted alongside the other abnormal findings (especially the elevated ESR and low sodium).  The clinical picture needs to be considered to determine their significance.\n",
            "\n",
            "**Important Note:** This analysis is based solely on the lab results provided.  It is crucial to understand that lab results must be interpreted in the context of the patient's complete medical history, physical examination, and other clinical findings.  This information should be reviewed and interpreted by a qualified healthcare professional to provide an accurate diagnosis and treatment plan.  The significantly low sodium level requires immediate medical attention.\n",
            "\n"
          ]
        }
      ]
    },
    {
      "cell_type": "code",
      "source": [
        "def explain_medical_terms(text):\n",
        "  \"\"\"Asks Gemini AI to simplify terms for patient understanding.\"\"\"\n",
        "  model=genai.GenerativeModel(\"gemini-1.5-flash\")\n",
        "  prompt=f\"Explain the medical terms in the following health report in simple language:\\n\\n{text}\"\n",
        "  response=model.generate_content(prompt)\n",
        "  return response.text\n",
        "\n",
        "explanation=explain_medical_terms(extracted_text)\n",
        "print(\"Simplified Explanation:\\n\",explanation)\n"
      ],
      "metadata": {
        "colab": {
          "base_uri": "https://localhost:8080/",
          "height": 1000
        },
        "id": "hlqz0IG4Uwy3",
        "outputId": "647c3597-ec7a-4528-baaf-f644b89b5bea"
      },
      "execution_count": 9,
      "outputs": [
        {
          "output_type": "stream",
          "name": "stdout",
          "text": [
            "Simplified Explanation:\n",
            " This report shows the results of several blood tests performed on Mr. Kishan Goud on February 1st, 2021.  Let's break down each section:\n",
            "\n",
            "\n",
            "**1. WIDAL Test:** This test checks for antibodies against *Salmonella* bacteria, which cause typhoid fever and paratyphoid fever.  The results are expressed as dilutions.  A higher number indicates a stronger immune response (meaning the body is fighting the infection).\n",
            "\n",
            "* **S. Typhi \"O\" 1:160:**  This is a significantly higher than normal result, suggesting a possible past or current infection with *Salmonella Typhi* (the bacteria causing typhoid fever). The \"O\" refers to a specific part of the bacteria.\n",
            "* **S. Typhi \"H\" 1:80:** Also higher than normal, further supporting possible *Salmonella Typhi* infection. The \"H\" refers to another part of the bacteria.\n",
            "* **S. Paratyphi \"AH\" 1:20:** This result is within the normal range, suggesting no current or recent infection with *Salmonella Paratyphi* A.\n",
            "* **S. Paratyphi \"BH\" 1:20:** This result is within the normal range, suggesting no current or recent infection with *Salmonella Paratyphi* B.\n",
            "\n",
            "**2. Dengue Serology:** This checks for dengue fever.  The results are negative for all three components tested:\n",
            "\n",
            "* **Dengue NS1 Antigen:**  A protein found in the blood during the early stages of dengue.  Negative means no current dengue infection.\n",
            "* **Dengue IgG:** Antibodies that appear later in dengue infection and indicate past exposure.  Negative means no past dengue infection.\n",
            "* **Dengue IgM:** Antibodies that appear earlier in dengue infection. Negative means no current dengue infection.\n",
            "\n",
            "**3. Erythrocyte Sedimentation Rate (ESR):** This test measures how quickly red blood cells settle at the bottom of a test tube. A higher rate often suggests inflammation in the body.\n",
            "\n",
            "* **ESR 1st Hour 26 mm/hr:** Higher than the normal range (0-8 mm/hr), indicating inflammation.\n",
            "* **ESR 2nd Hour 52 mm/hr:**  Further elevated, reinforcing the presence of inflammation.\n",
            "\n",
            "**4. Rapid Malaria Test:** This test screens for malaria parasites.  Both tests are negative, indicating no malaria infection:\n",
            "\n",
            "* **P.V (Plasmodium Vivax):** Negative\n",
            "* **P.F (Plasmodium Falciparum):** Negative\n",
            "\n",
            "**5. Complete Blood Picture (CBC):** This is a comprehensive blood test that provides information about various blood components.  Most results are within the normal range:\n",
            "\n",
            "* **Hemoglobin (Hb):** 13.6 gms% (Normal) - Measures the oxygen-carrying capacity of red blood cells.\n",
            "* **Red Blood Cells (RBC):** 4.3 mill/cumm (Slightly low, but within the lower range of normal)\n",
            "* **White Blood Cells (WBC):** 7,200 cells/cumm (Normal) - Cells that fight infection.\n",
            "* **Platelets:** 2.0 lakhs/cumm (Normal) - Involved in blood clotting.\n",
            "* **Packed Cell Volume (PCV):** 40.5 % (Normal) - Percentage of red blood cells in the blood.\n",
            "* **Differential Count:** This breaks down the types of white blood cells. All are within normal ranges.\n",
            "* **Peripheral Blood Smear:** A microscopic examination of the blood, which also shows normal findings.\n",
            "\n",
            "**6. HbA1c:** This test measures average blood sugar levels over the past 2-3 months.\n",
            "\n",
            "* **HbA1c 5.4%:** This falls within the normal range for someone without diabetes.\n",
            "\n",
            "**7. Serum Creatinine:** This test measures kidney function.\n",
            "\n",
            "* **Serum Creatinine 0.8 mg/dl:** This is within the normal range, indicating normal kidney function.\n",
            "\n",
            "**8. Random Blood Glucose:** This measures blood sugar at a random time.\n",
            "\n",
            "* **Random Blood Glucose (Result not given, but method noted):**  The range of normal values is provided.\n",
            "\n",
            "**9. Liver Function Test (LFT):**  A series of tests that assess liver health.  All results appear within normal ranges.  Includes:\n",
            "\n",
            "* **Total Bilirubin:**  Measures the level of bilirubin (a byproduct of red blood cell breakdown) in the blood.\n",
            "* **Direct Bilirubin:** A type of bilirubin.\n",
            "* **Indirect Bilirubin:** Another type of bilirubin.\n",
            "* **Alkaline Phosphatase:** An enzyme found in the liver and bones.\n",
            "* **SGOT (AST):** An enzyme released when liver cells are damaged.\n",
            "* **SGPT (ALT):** Another liver enzyme.\n",
            "* **Total Protein:** The total amount of protein in the blood.\n",
            "* **Albumin:** A type of protein made in the liver.\n",
            "* **Globulin:** Another type of protein.\n",
            "* **A/G Ratio:** The ratio of albumin to globulin.\n",
            "\n",
            "**10. Serum Electrolytes:** These tests measure the levels of important minerals in the blood.\n",
            "\n",
            "* **Serum Sodium:** Slightly below the normal range.\n",
            "* **Serum Potassium:** Within the normal range.\n",
            "* **Serum Chloride:** Slightly below the normal range.\n",
            "\n",
            "\n",
            "**Overall:**  The report shows some abnormalities, notably the elevated ESR and slightly elevated Widal test results for *Salmonella Typhi*. The elevated ESR suggests inflammation, and the Widal test suggests possible past or present typhoid fever. However, the negative dengue and malaria tests rule those out.  The slightly low Sodium and Chloride levels should also be investigated further.  A physician should interpret these results in conjunction with the patient's clinical presentation to reach a diagnosis and appropriate management plan.  This information is for educational purposes only and should not be considered medical advice.\n",
            "\n"
          ]
        }
      ]
    },
    {
      "cell_type": "code",
      "source": [
        "def ask_gemini_about_report(text, question):\n",
        "  \"\"\"Allows users to ask questions about their health report.\"\"\"\n",
        "  model=genai.GenerativeModel(\"gemini-1.5-flash\")\n",
        "  prompt=f\"The following is a health report:\\n\\n{text}\\n\\nAnswer the following questions based on the report:\\n{question}\"\n",
        "  response=model.generate_content(prompt)\n",
        "  return response.text\n",
        "\n",
        "question=\"What is the patient's diagnosis?\"\n",
        "answer=ask_gemini_about_report(extracted_text, question)\n",
        "print(\"Answer:\\n\",answer)\n"
      ],
      "metadata": {
        "colab": {
          "base_uri": "https://localhost:8080/",
          "height": 89
        },
        "id": "sNVHpeqVWMDW",
        "outputId": "669c7550-63c3-49c2-9b59-102a012c0b7e"
      },
      "execution_count": 10,
      "outputs": [
        {
          "output_type": "stream",
          "name": "stdout",
          "text": [
            "Answer:\n",
            " The provided lab report does not offer a diagnosis.  It presents various test results, some showing values outside the normal range (e.g., elevated ESR), but these are only data points.  A diagnosis requires clinical evaluation by a physician who considers these results in conjunction with the patient's symptoms, medical history, and physical examination.  The slightly elevated Widal test results suggest possible past exposure to Salmonella Typhi or Paratyphi, but this does not confirm an active infection.  Further clinical context is needed for a proper diagnosis.\n",
            "\n"
          ]
        }
      ]
    },
    {
      "cell_type": "code",
      "source": [],
      "metadata": {
        "id": "Z0lKqHTOXpi_"
      },
      "execution_count": null,
      "outputs": []
    }
  ]
}