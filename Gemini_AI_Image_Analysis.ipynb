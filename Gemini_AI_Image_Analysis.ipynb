{
  "nbformat": 4,
  "nbformat_minor": 0,
  "metadata": {
    "colab": {
      "provenance": []
    },
    "kernelspec": {
      "name": "python3",
      "display_name": "Python 3"
    },
    "language_info": {
      "name": "python"
    }
  },
  "cells": [
    {
      "cell_type": "code",
      "execution_count": 2,
      "metadata": {
        "id": "S6o9o2GrXjzr"
      },
      "outputs": [],
      "source": [
        "import google.generativeai as genai\n",
        "from google.colab import userdata\n",
        "\n",
        "GOOGLE_API_KEY = userdata.get('GOOGLE_API_KEY')\n",
        "genai.configure(api_key=GOOGLE_API_KEY)"
      ]
    },
    {
      "cell_type": "code",
      "source": [
        "from google import genai\n",
        "from google.genai import types\n",
        "\n",
        "client=genai.Client(api_key=GOOGLE_API_KEY)"
      ],
      "metadata": {
        "id": "rA6V4NVBYV5-"
      },
      "execution_count": 4,
      "outputs": []
    },
    {
      "cell_type": "code",
      "source": [
        "client=genai.Client(api_key=GOOGLE_API_KEY)"
      ],
      "metadata": {
        "id": "T925QCAGX5q9"
      },
      "execution_count": 6,
      "outputs": []
    },
    {
      "cell_type": "code",
      "source": [
        "import pathlib\n",
        "import textwrap\n",
        "from IPython.display import display, Markdown\n",
        "\n",
        "def to_markdown(text):\n",
        "  text=text.replace('.',' *')\n",
        "  return Markdown(textwrap.indent(text, '> ',predicate=lambda _: True))"
      ],
      "metadata": {
        "id": "W9jOxWXPYZIy"
      },
      "execution_count": 7,
      "outputs": []
    },
    {
      "cell_type": "code",
      "source": [
        "%pip install -U -q \"google-generativeai>=0.7.2\""
      ],
      "metadata": {
        "id": "1NQZeXX0bvK8"
      },
      "execution_count": 10,
      "outputs": []
    },
    {
      "cell_type": "code",
      "source": [
        "import PIL.Image\n",
        "import google.generativeai as genai # Use google.generativeai instead of google.genai\n",
        "\n",
        "img = PIL.Image.open('image.jpg')\n",
        "img\n",
        "\n",
        "# Initialize the GenerativeModel with google.generativeai\n",
        "model = genai.GenerativeModel('gemini-1.5-flash')\n",
        "\n",
        "response = model.generate_content([\"\"\"Write a short, engaging blog post based on this picture.\n",
        "It should include a description of the meal in the photo and talk about my journey meal prepping.\"\"\", img],\n",
        "                                   stream=True)\n",
        "response.resolve()"
      ],
      "metadata": {
        "id": "n-76udp6ZDP_"
      },
      "execution_count": 14,
      "outputs": []
    },
    {
      "cell_type": "code",
      "source": [
        "to_markdown(response.text)"
      ],
      "metadata": {
        "colab": {
          "base_uri": "https://localhost:8080/",
          "height": 495
        },
        "id": "dxamCaPGcZCJ",
        "outputId": "b5bfd9c5-5c49-4e87-8470-30338e138f8c"
      },
      "execution_count": 15,
      "outputs": [
        {
          "output_type": "execute_result",
          "data": {
            "text/plain": [
              "<IPython.core.display.Markdown object>"
            ],
            "text/markdown": "> ## My Meal Prep Journey: From Chaos to Controlled Deliciousness!\n> \n> Let's be honest, weekday dinners used to be a stressful scramble *  Between work, errands, and everything else, cooking a healthy meal often fell to the bottom of the to-do list (usually resulting in takeout!) *  That all changed when I started meal prepping!\n> \n> The photo above shows the delicious fruits (or should I say, *veggies*!) of my labor * Two perfectly portioned containers brimming with a simple, yet satisfying, teriyaki chicken and veggie bowl *  Fluffy white rice forms the base, topped with tender chicken in a savory teriyaki sauce, vibrant roasted carrots and red bell peppers, and a healthy helping of broccoli * It's a balanced meal that's both visually appealing and incredibly tasty *\n> \n> My meal prep journey wasn't instant perfection *  There were definitely some missteps – remember the time I accidentally overcooked the quinoa?  😅 But through trial and error, I’ve found a system that works for me *  It’s all about planning ahead, prepping ingredients on the weekend, and utilizing those handy glass containers (they look so pretty, too!) *\n> \n> The benefits have been amazing *  I’m saving time and money, eating healthier, and finally feeling less stressed about weeknight dinners *  No more last-minute takeout decisions, just a quick grab-and-go healthy meal!  \n> \n> If you’re thinking about starting your own meal prep journey, don't hesitate! It might seem daunting at first, but trust me, the payoff is worth it *  Start small, experiment with recipes you enjoy, and find a system that fits your lifestyle *  You’ll be surprised at how much easier (and tastier!) your week can become *  Happy prepping!\n"
          },
          "metadata": {},
          "execution_count": 15
        }
      ]
    },
    {
      "cell_type": "code",
      "source": [
        "response=model.generate_content([\"Generate an accurate caption for this image.\",img])\n",
        "print(response.text)"
      ],
      "metadata": {
        "colab": {
          "base_uri": "https://localhost:8080/",
          "height": 332
        },
        "id": "iE9Ssaccchmt",
        "outputId": "1b654517-2629-4b03-fbd9-ce48fd07f485"
      },
      "execution_count": 16,
      "outputs": [
        {
          "output_type": "stream",
          "name": "stdout",
          "text": [
            "Here's a caption for the image:\n",
            "\n",
            "**Option 1 (Concise):**\n",
            "\n",
            "> Healthy and delicious meal prep!  Chicken and broccoli with rice.\n",
            "\n",
            "**Option 2 (More descriptive):**\n",
            "\n",
            "> Two glass containers filled with a healthy and flavorful meal prep:  Chicken stir-fry with broccoli, carrots, and fluffy rice. Perfect for a quick and nutritious lunch or dinner.\n",
            "\n",
            "**Option 3 (Focus on convenience):**\n",
            "\n",
            "> Easy weeknight dinners sorted!  These prepped chicken and veggie bowls make healthy eating a breeze.\n",
            "\n",
            "\n",
            "Choose the option that best suits your needs and audience.\n",
            "\n"
          ]
        }
      ]
    },
    {
      "cell_type": "code",
      "source": [
        "from PIL import Image\n",
        "image_path=\"girl.jpg\"\n",
        "image=Image.open(image_path)\n",
        "response=model.generate_content([\"Describe this image in detail.\",image])\n",
        "print(response.text)"
      ],
      "metadata": {
        "colab": {
          "base_uri": "https://localhost:8080/",
          "height": 315
        },
        "id": "_zqr-rq9eMX_",
        "outputId": "491a7913-1412-4572-8976-2e7de66ae616"
      },
      "execution_count": 18,
      "outputs": [
        {
          "output_type": "stream",
          "name": "stdout",
          "text": [
            "Here's a description of the image:\n",
            "\n",
            "Close-up view of a woman with shoulder-length, curly brown hair. \n",
            "\n",
            "\n",
            "She is light-skinned and has a pleasant expression, smiling slightly. Her eyes are dark and her makeup is subtle. \n",
            "\n",
            "\n",
            "She's wearing a teal-colored, three-quarter-sleeved top or tunic with a subtle gold or light-colored print that appears to be a small, repeating floral or paisley design. The neckline is a simple, slightly open V-neck. \n",
            "\n",
            "\n",
            "Her arms are crossed, and one hand is extended outward, index finger pointing to the side, suggesting a gesture of indicating something off-camera or directing attention.\n",
            "\n",
            "\n",
            "The background is plain white, keeping the focus entirely on the woman. The lighting is soft and even, eliminating harsh shadows. The overall impression is a friendly and approachable image, possibly for a profile picture or advertisement.\n",
            "\n"
          ]
        }
      ]
    },
    {
      "cell_type": "code",
      "source": [
        "response=model.generate_content([\"What emotions can you detect in this image.\",image])\n",
        "print(response.text)"
      ],
      "metadata": {
        "colab": {
          "base_uri": "https://localhost:8080/",
          "height": 72
        },
        "id": "o8vRmCoagumy",
        "outputId": "d9dfbd2c-94fe-4227-c941-186b20ecfb41"
      },
      "execution_count": 20,
      "outputs": [
        {
          "output_type": "stream",
          "name": "stdout",
          "text": [
            "The woman in the image appears to be expressing happiness, confidence, and perhaps a hint of helpfulness or friendliness.  Her smile is genuine, and her gesture of pointing suggests she is guiding or offering information.\n",
            "\n"
          ]
        }
      ]
    }
  ]
}